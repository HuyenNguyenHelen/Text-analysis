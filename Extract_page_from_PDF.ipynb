{
 "cells": [
  {
   "cell_type": "code",
   "execution_count": 3,
   "metadata": {},
   "outputs": [
    {
     "name": "stdout",
     "output_type": "stream",
     "text": [
      "Collecting PyPDF2\n",
      "  Downloading https://files.pythonhosted.org/packages/b4/01/68fcc0d43daf4c6bdbc6b33cc3f77bda531c86b174cac56ef0ffdb96faab/PyPDF2-1.26.0.tar.gz (77kB)\n",
      "Building wheels for collected packages: PyPDF2\n",
      "  Building wheel for PyPDF2 (setup.py): started\n",
      "  Building wheel for PyPDF2 (setup.py): finished with status 'done'\n",
      "  Created wheel for PyPDF2: filename=PyPDF2-1.26.0-cp37-none-any.whl size=61091 sha256=90b942d3eef8e34d4948f33fab5c82cc642ad1a54f08bb5e3deebd77ae4665fa\n",
      "  Stored in directory: C:\\Users\\ngoch\\AppData\\Local\\pip\\Cache\\wheels\\53\\84\\19\\35bc977c8bf5f0c23a8a011aa958acd4da4bbd7a229315c1b7\n",
      "Successfully built PyPDF2\n",
      "Installing collected packages: PyPDF2\n",
      "Successfully installed PyPDF2-1.26.0\n"
     ]
    }
   ],
   "source": [
    "!pip install PyPDF2"
   ]
  },
  {
   "cell_type": "code",
   "execution_count": 34,
   "metadata": {},
   "outputs": [],
   "source": [
    "#Sample\n",
    "pdfFileObj = open(r'Z:\\WorkingFolder_Huyen\\Dissertation_Stored\\pdf_metadc28390.pdf', 'rb')\n",
    "pdfReader = PyPDF2.PdfFileReader(pdfFileObj)\n",
    "for pageNum in range(1, pdfReader.numPages):\n",
    "    pageObj = pdfReader.getPage(pageNum)\n",
    "    pdfWriter.addPage(pageObj)\n",
    "pdfOutput = open(r'Z:\\WorkingFolder_Huyen\\sample.pdf', 'wb')\n",
    "pdfWriter.write(pdfOutput)\n",
    "pdfOutput.close()"
   ]
  },
  {
   "cell_type": "code",
   "execution_count": 2,
   "metadata": {},
   "outputs": [
    {
     "name": "stdout",
     "output_type": "stream",
     "text": [
      "Number of files in the folder: 97\n",
      "<class 'str'>\n",
      "('', 'pdf_metadc1011802.pdf')\n"
     ]
    }
   ],
   "source": [
    "# Get file names\n",
    "import os\n",
    "import PyPDF2\n",
    "pdfs_path = r\"Z:\\WorkingFolder_Huyen\\Dissertation_Stored\"\n",
    "#print(type(biorxiv_dir))\n",
    "filenames = os.listdir(pdfs_path)\n",
    "print(\"Number of files in the folder:\", len(filenames))\n",
    "print(type(filenames[0]))\n",
    "parse_filepath = os.path.split(filenames[0]) \n",
    "print(parse_filepath)"
   ]
  },
  {
   "cell_type": "code",
   "execution_count": 8,
   "metadata": {},
   "outputs": [],
   "source": [
    "# Extract Abstracts\n",
    "all_files = []\n",
    "for filename in filenames:\n",
    "    filepath = os.path.join(pdfs_path, filename) \n",
    "    filepath.encode('unicode-escape')\n",
    "    pdfFileObj = open(filepath, 'rb')\n",
    "    pdfReader = PyPDF2.PdfFileReader(pdfFileObj)\n",
    "    pageObj = pdfReader.getPage(1) \n",
    "    abstract= pageObj.extractText()\n",
    "    pdfWriter = PyPDF2.PdfFileWriter() \n",
    "    pdfWriter.addPage(pageObj) \n",
    "    with open(r'Z:\\WorkingFolder_Huyen\\Dissertations_Abstracts_Extracted\\Abstract_'+ filename, 'wb') as newFile:\n",
    "         pdfWriter.write(newFile)\n",
    "pdfFileObj.close()   "
   ]
  },
  {
   "cell_type": "code",
   "execution_count": 9,
   "metadata": {},
   "outputs": [],
   "source": [
    "# Extract Chapter 1\n",
    "\n",
    "all_files = []\n",
    "for filename in filenames:\n",
    "    filepath = os.path.join(pdfs_path, filename) \n",
    "    filepath.encode('unicode-escape')\n",
    "    pdfFileObj = open(filepath, 'rb')\n",
    "    pdfReader = PyPDF2.PdfFileReader(pdfFileObj)\n",
    "    pdfWriter = PyPDF2.PdfFileWriter() \n",
    "    for pageNum in range(2, 32):\n",
    "        pageObj = pdfReader.getPage(pageNum) \n",
    "        pdfWriter.addPage(pageObj) \n",
    "    newFile =  open(r'Z:\\WorkingFolder_Huyen\\Dissertation_Chapter1_Extracted\\Chap1_' + filename, 'wb')\n",
    "    pdfWriter.write(newFile)\n",
    "    newFile.close()   \n",
    "newFile.close()\n",
    "pdfFileObj.close()   "
   ]
  }
 ],
 "metadata": {
  "kernelspec": {
   "display_name": "Python 3",
   "language": "python",
   "name": "python3"
  },
  "language_info": {
   "codemirror_mode": {
    "name": "ipython",
    "version": 3
   },
   "file_extension": ".py",
   "mimetype": "text/x-python",
   "name": "python",
   "nbconvert_exporter": "python",
   "pygments_lexer": "ipython3",
   "version": "3.7.4"
  }
 },
 "nbformat": 4,
 "nbformat_minor": 4
}
